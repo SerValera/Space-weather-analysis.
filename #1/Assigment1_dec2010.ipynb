{
 "cells": [
  {
   "cell_type": "code",
   "execution_count": null,
   "metadata": {},
   "outputs": [],
   "source": [
    "hdu_list.close()"
   ]
  },
  {
   "cell_type": "code",
   "execution_count": null,
   "metadata": {},
   "outputs": [],
   "source": [
    "#Work with fts files http://eso-python.github.io/ESOPythonTutorials/FITS-images.html\n",
    "#Rotate matrix https://docs.scipy.org/doc/scipy/reference/generated/scipy.ndimage.rotate.html"
   ]
  },
  {
   "cell_type": "code",
   "execution_count": 2,
   "metadata": {},
   "outputs": [],
   "source": [
    "import pyfits\n",
    "import numpy as np\n",
    "import matplotlib\n",
    "import matplotlib.pyplot as plt\n",
    "import math\n",
    "import os\n",
    "import datetime\n",
    "from scipy import ndimage, misc\n",
    "from astropy.utils.data import download_file\n",
    "from astropy.modeling.rotations import Rotation2D\n",
    "from astropy.io import fits\n",
    "from datetime import datetime\n",
    "%matplotlib inline"
   ]
  },
  {
   "cell_type": "code",
   "execution_count": 3,
   "metadata": {},
   "outputs": [],
   "source": [
    "directory = '../2016_june/2010_December'\n",
    "files = os.listdir(directory)\n",
    "k = len(files)\n",
    "for i in range(k):\n",
    "    files[i] = directory + '/' + files[i] \n",
    "    \n",
    "hdu_list = fits.open(files[0])  \n",
    "for i in range(k):\n",
    "    hdu_list2 = fits.open(files[i])  \n",
    "    hdu_list.append(hdu_list2[0])"
   ]
  },
  {
   "cell_type": "code",
   "execution_count": 10,
   "metadata": {},
   "outputs": [],
   "source": [
    "DATE_OBS_str = np.array(range(0, k), dtype = 'object')\n",
    "DATE_OBS = np.array(range(0, k), dtype = 'object')\n",
    "day_obs = np.array(range(0, k), int)\n",
    "SOLAR_P0 = np.array(range(0, k), float)\n",
    "SOLAR_R = np.array(range(0, k), float)\n",
    "\n",
    "for i in range(0, k):\n",
    "    DATE_OBS_str[i] = hdu_list[i+1].header['DATE-OBS']\n",
    "    SOLAR_P0[i] = hdu_list[i+1].header['SOLAR_P0']\n",
    "    SOLAR_R[i] = hdu_list[i+1].header['SOLAR_R']"
   ]
  },
  {
   "cell_type": "code",
   "execution_count": 34,
   "metadata": {},
   "outputs": [
    {
     "data": {
      "text/plain": [
       "array([list([2010, 12, 4, 13, 39, 1]), list([2010, 12, 5, 11, 11, 28]),\n",
       "       list([2010, 12, 6, 9, 36, 6]), list([2010, 12, 7, 12, 55, 45]),\n",
       "       list([2010, 12, 8, 8, 14, 41]), list([2010, 12, 9, 13, 12, 11]),\n",
       "       list([2010, 12, 10, 11, 2, 20]), list([2010, 12, 11, 10, 8, 20])],\n",
       "      dtype=object)"
      ]
     },
     "execution_count": 34,
     "metadata": {},
     "output_type": "execute_result"
    }
   ],
   "source": [
    "#DATA AND TIME EXTRACT FROM STRING LIST\n",
    "#format input data 2016-06-10T10:42:07\n",
    "def time_extract(datas):\n",
    "    s = datas\n",
    "    l = len(s)\n",
    "    integ = []\n",
    "    i = 0\n",
    "    while i < l:\n",
    "        s_int = ''\n",
    "        a = s[i]\n",
    "        while '0' <= a <= '9':\n",
    "            s_int += a\n",
    "            i += 1\n",
    "            if i < l:\n",
    "                a = s[i]\n",
    "            else:\n",
    "                break\n",
    "        i += 1\n",
    "        if s_int != '':\n",
    "            integ.append(int(s_int))\n",
    "    return integ\n",
    "\n",
    "for i in range(0, k):\n",
    "    DATE_OBS[i] = time_extract(DATE_OBS_str[i])\n",
    "    day_obs[i] = DATE_OBS[i][2] #Day obs for ploting\n",
    "\n",
    "#time in sec to calculate angulat velocity 12 elements\n",
    "time_sec = np.array(range(0, k), int) \n",
    "#delta time in sec to calculate angulat velocity 12 - 1 elements\n",
    "delta_time_sec = np.array(range(0, k-1), int) \n",
    "\n",
    "#time in sec. Sum\n",
    "for i in range(0, k):\n",
    "    time_sec[i] = DATE_OBS[i][5] + DATE_OBS[i][4]*60 + DATE_OBS[i][3]*60*60 + DATE_OBS[i][2]*60*60*24\n",
    "\n",
    "for i in range(0, k-1): \n",
    "    delta_time_sec[i]= time_sec[i+1] - time_sec[i]\n",
    "    \n",
    "DATE_OBS"
   ]
  },
  {
   "cell_type": "code",
   "execution_count": 14,
   "metadata": {},
   "outputs": [
    {
     "name": "stdout",
     "output_type": "stream",
     "text": [
      "01234567done!\n"
     ]
    }
   ],
   "source": [
    "#choose number of file\n",
    "#ploting images and saving to .png files\n",
    "for i in range(0, k):\n",
    "    im1 = hdu_list[i+1].data\n",
    "    im1 = np.flipud(im1)\n",
    "    #rotate matrix by angel SOLAR_P0\n",
    "    im1_rot = ndimage.rotate(im1, -SOLAR_P0[i], reshape=False)\n",
    "    print(i, end='')\n",
    "    #print('DATE_OBS =', DATE_OBS[i])\n",
    "    #print('SOLAR_R =', SOLAR_R[i])\n",
    "    #print('SOLAR_P0 =', SOLAR_P0[i])\n",
    "    \n",
    "    plt.imshow(im1_rot)\n",
    "    plt.colorbar();\n",
    "    plt.savefig(\"Graph_dec2010_\" + str(i+1) +\".png\", format=\"PNG\")\n",
    "    #plt.show()\n",
    "    plt.close()\n",
    "print('done!')"
   ]
  },
  {
   "cell_type": "code",
   "execution_count": 23,
   "metadata": {},
   "outputs": [],
   "source": [
    "#reading the coordinates y and z of one sunspot (in pixel) from file\n",
    "file_txt = open(\"spot_dec.txt\")\n",
    "line = file_txt.read().splitlines()\n",
    "y_pix_june = np.array(range(0, k), int)\n",
    "z_pix_june = np.array(range(0, k), int)\n",
    "\n",
    "for i in range(k):\n",
    "    line[i] = line[i].split(' ')\n",
    "for i in range(k):\n",
    "    y_pix_june[i] = line[i][1]\n",
    "    z_pix_june[i] = line[i][2]"
   ]
  },
  {
   "cell_type": "code",
   "execution_count": 24,
   "metadata": {},
   "outputs": [
    {
     "data": {
      "text/plain": [
       "array([ 406,  523,  667,  864, 1000, 1216, 1366, 1508])"
      ]
     },
     "execution_count": 24,
     "metadata": {},
     "output_type": "execute_result"
    }
   ],
   "source": [
    "y_pix_june"
   ]
  },
  {
   "cell_type": "code",
   "execution_count": 25,
   "metadata": {},
   "outputs": [
    {
     "data": {
      "text/plain": [
       "array([1480, 1488, 1501, 1514, 1522, 1541, 1551, 1556])"
      ]
     },
     "execution_count": 25,
     "metadata": {},
     "output_type": "execute_result"
    }
   ],
   "source": [
    "z_pix_june"
   ]
  },
  {
   "cell_type": "code",
   "execution_count": 26,
   "metadata": {},
   "outputs": [],
   "source": [
    "#---STEP2, STEP3----\n",
    "center_sun_y = 1024 #pix\n",
    "center_sun_z = 1024 #pix\n",
    "\n",
    "y_cor = np.array(range(0, k), int)\n",
    "z_cor = np.array(range(0, k), int)\n",
    "x_cor = np.array(range(0, k), float)\n",
    "\n",
    "theta = np.array(range(0, k), float)\n",
    "lat_B = np.array(range(0, k), float)\n",
    "lon_fi = np.array(range(0, k), float)\n",
    "\n",
    "rad_to_grad = 180/ math.pi \n",
    "\n",
    "for i in range(k):\n",
    "    y_cor[i] = y_pix_june[i] - center_sun_y\n",
    "    z_cor[i] = z_pix_june[i] - center_sun_z\n",
    "    x_cor[i] = math.sqrt(SOLAR_R[i]**2 - y_cor[i]**2 - z_cor[i]**2)\n",
    "    theta[i] = math.acos(z_cor[i]/(SOLAR_R[i]))\n",
    "    lat_B[i] = 90 - theta[i] * rad_to_grad\n",
    "    lon_fi[i] = math.atan2(y_cor[i], x_cor[i]) * rad_to_grad"
   ]
  },
  {
   "cell_type": "code",
   "execution_count": 27,
   "metadata": {},
   "outputs": [
    {
     "data": {
      "image/png": "[encoded data removed]",
      "text/plain": [
       "<Figure size 432x288 with 1 Axes>"
      ]
     },
     "metadata": {
      "needs_background": "light"
     },
     "output_type": "display_data"
    }
   ],
   "source": [
    "#ploting the coordinates\n",
    "plt.title('Plot latitude depending on longitude')\n",
    "plt.xlabel('lon')\n",
    "plt.ylabel('lat')\n",
    "plt.plot(lon_fi, lat_B, color = 'blue')  \n",
    "plt.grid(True)\n",
    "plt.show()"
   ]
  },
  {
   "cell_type": "code",
   "execution_count": 28,
   "metadata": {},
   "outputs": [
    {
     "data": {
      "image/png": "[encoded data removed]",
      "text/plain": [
       "<Figure size 432x288 with 1 Axes>"
      ]
     },
     "metadata": {
      "needs_background": "light"
     },
     "output_type": "display_data"
    }
   ],
   "source": [
    "#ploting the coordinates\n",
    "plt.title('Plot latitude depending on days')\n",
    "plt.xlabel('day')\n",
    "plt.ylabel('lat')\n",
    "plt.plot(day_obs, lat_B, color = 'blue') \n",
    "plt.grid(True)\n",
    "plt.show()"
   ]
  },
  {
   "cell_type": "code",
   "execution_count": 29,
   "metadata": {},
   "outputs": [
    {
     "data": {
      "image/png": "[encoded data removed]",
      "text/plain": [
       "<Figure size 432x288 with 1 Axes>"
      ]
     },
     "metadata": {
      "needs_background": "light"
     },
     "output_type": "display_data"
    }
   ],
   "source": [
    "#ploting the coordinates\n",
    "plt.title('Plot longitude depending on days')\n",
    "plt.xlabel('day')\n",
    "plt.ylabel('lat')\n",
    "plt.plot(day_obs, lon_fi, color = 'blue') \n",
    "plt.grid(True)\n",
    "plt.show()"
   ]
  },
  {
   "cell_type": "code",
   "execution_count": 30,
   "metadata": {},
   "outputs": [
    {
     "name": "stdout",
     "output_type": "stream",
     "text": [
      "Angular velocity grad per day\n",
      "12.096\n",
      "12.178\n",
      "12.631\n",
      "11.924\n",
      "12.966\n",
      "12.743\n",
      "12.658\n",
      "V_angular_mean = 12.456635446525134 grad/day\n"
     ]
    }
   ],
   "source": [
    "#----Step 4----\n",
    "#Determine the angular velocity of solar \n",
    "#rotation per day using the obtained \n",
    "#longitude and taking into account the time between images. \n",
    "\n",
    "to_sec = 60*60*24\n",
    "\n",
    "V_angular = np.array(range(0, k-1), float)\n",
    "delta_lon_fi = np.array(range(0, k), float)\n",
    "\n",
    "for i in range(k-1):\n",
    "    delta_lon_fi[i] = lon_fi[i+1] - lon_fi[i]\n",
    "\n",
    "print('Angular velocity grad per day')\n",
    "for i in range(k-1):\n",
    "    V_angular[i] = delta_lon_fi[i]/delta_time_sec[i]\n",
    "    print('{0:.3f}'.format(V_angular[i]*to_sec))\n",
    "    \n",
    "V_angular_mean = np.mean(V_angular)*to_sec\n",
    "print('V_angular_mean =', V_angular_mean, 'grad/day')"
   ]
  },
  {
   "cell_type": "code",
   "execution_count": 31,
   "metadata": {},
   "outputs": [
    {
     "data": {
      "text/plain": [
       "array([13.08114191, 13.16362487, 13.61707682, 12.90914037, 13.95195581,\n",
       "       13.7288282 , 13.64394323])"
      ]
     },
     "execution_count": 31,
     "metadata": {},
     "output_type": "execute_result"
    }
   ],
   "source": [
    "#---Step 5---  Determine the sidereal rotation rate using the following relations: \n",
    "P_synod = np.zeros(k-1)\n",
    "P_sid = np.zeros(k-1)\n",
    "\n",
    "P_synod = 360/(V_angular*to_sec)\n",
    "P_earth = 365.2564\n",
    "\n",
    "P_sid = P_synod * P_earth /(P_earth + P_synod)\n",
    "\n",
    "#Siderial rotation rate is\n",
    "\n",
    "Omega_sid = 360/P_sid\n",
    "Omega_sid"
   ]
  },
  {
   "cell_type": "code",
   "execution_count": 32,
   "metadata": {},
   "outputs": [
    {
     "data": {
      "text/plain": [
       "[<matplotlib.lines.Line2D at 0x28948b72e88>]"
      ]
     },
     "execution_count": 32,
     "metadata": {},
     "output_type": "execute_result"
    },
    {
     "data": {
      "image/png": "[encoded data removed]",
      "text/plain": [
       "<Figure size 432x288 with 1 Axes>"
      ]
     },
     "metadata": {
      "needs_background": "light"
     },
     "output_type": "display_data"
    }
   ],
   "source": [
    "#--Step 6 Compare the obtained angular sidereal \n",
    "#rotation rate with the functional form of solar \n",
    "#differential rotation obtained from statistical studie\n",
    "\n",
    "a = 14.55\n",
    "b = -2.87\n",
    "\n",
    "B = np.arange(-50,50,0.1)\n",
    "Omega_sid_teor = np.zeros(len(B))\n",
    "\n",
    "for i in range(len(B)):\n",
    "    Omega_sid_teor[i] = a + b * ((math.sin(B[i]))**2)\n",
    "\n",
    "plt.axis([-55, 55, 10, 15])  # [xmin, xmax, ymin, ymax]\n",
    "plt.plot(B, Omega_sid_teor)"
   ]
  },
  {
   "cell_type": "code",
   "execution_count": 33,
   "metadata": {},
   "outputs": [
    {
     "data": {
      "text/plain": [
       "1000"
      ]
     },
     "execution_count": 33,
     "metadata": {},
     "output_type": "execute_result"
    }
   ],
   "source": [
    "len(B)"
   ]
  }
 ],
 "metadata": {
  "kernelspec": {
   "display_name": "Python 3",
   "language": "python",
   "name": "python3"
  },
  "language_info": {
   "codemirror_mode": {
    "name": "ipython",
    "version": 3
   },
   "file_extension": ".py",
   "mimetype": "text/x-python",
   "name": "python",
   "nbconvert_exporter": "python",
   "pygments_lexer": "ipython3",
   "version": "3.7.4"
  }
 },
 "nbformat": 4,
 "nbformat_minor": 4
}
